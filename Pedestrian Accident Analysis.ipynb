{
 "cells": [
  {
   "cell_type": "code",
   "execution_count": 3,
   "metadata": {
    "ExecuteTime": {
     "end_time": "2021-07-15T21:48:37.295497Z",
     "start_time": "2021-07-15T21:48:36.069400Z"
    }
   },
   "outputs": [],
   "source": [
    "import pandas as pd\n",
    "import numpy as np\n",
    "import matplotlib.pyplot as plt\n",
    "import seaborn as sns"
   ]
  },
  {
   "cell_type": "code",
   "execution_count": null,
   "metadata": {
    "ExecuteTime": {
     "end_time": "2021-07-15T21:28:24.130602Z",
     "start_time": "2021-07-15T21:28:23.773204Z"
    }
   },
   "outputs": [],
   "source": [
    "df = pd.read_csv('crash_rates.csv')\n",
    "#adjusting settings so that we can see all of the cvolumns.\n",
    "pd.set_option('display.max_columns', None)\n",
    "pd.set_option('display.max_rows', None)"
   ]
  },
  {
   "cell_type": "code",
   "execution_count": null,
   "metadata": {
    "ExecuteTime": {
     "end_time": "2021-07-11T19:59:52.578120Z",
     "start_time": "2021-07-11T19:59:52.547091Z"
    }
   },
   "outputs": [],
   "source": [
    "#Initial data inspection\n",
    "df.head()"
   ]
  },
  {
   "cell_type": "code",
   "execution_count": null,
   "metadata": {
    "ExecuteTime": {
     "end_time": "2021-07-11T19:59:52.641954Z",
     "start_time": "2021-07-11T19:59:52.579121Z"
    }
   },
   "outputs": [],
   "source": [
    "#Looking at data types, most of which are objects\n",
    "df.info()"
   ]
  },
  {
   "cell_type": "code",
   "execution_count": null,
   "metadata": {
    "ExecuteTime": {
     "end_time": "2021-07-11T19:59:52.705196Z",
     "start_time": "2021-07-11T19:59:52.642954Z"
    }
   },
   "outputs": [],
   "source": [
    "#Looking at null values\n",
    "# most of the contributing factor and vehicle code types are nulls.  We are going to drop all of these columns.\n",
    "df.isna().sum()"
   ]
  },
  {
   "cell_type": "code",
   "execution_count": null,
   "metadata": {
    "ExecuteTime": {
     "end_time": "2021-07-15T21:28:48.331376Z",
     "start_time": "2021-07-15T21:28:48.298975Z"
    }
   },
   "outputs": [],
   "source": [
    "#dropping columns\n",
    "column_names = ['contributing_factor_vehicle_2', \n",
    "                'contributing_factor_vehicle_3', \n",
    "                'contributing_factor_vehicle_4', \n",
    "                'contributing_factor_vehicle_5', \n",
    "                'vehicle_type_code2', \n",
    "                'vehicle_type_code_3',  \n",
    "                'vehicle_type_code_4',  \n",
    "                'vehicle_type_code_5', \n",
    "                'off_street_name',\n",
    "                'cross_street_name']\n",
    "df.drop(columns = column_names, inplace = True, axis =1)"
   ]
  },
  {
   "cell_type": "code",
   "execution_count": null,
   "metadata": {
    "ExecuteTime": {
     "end_time": "2021-07-15T21:29:05.974023Z",
     "start_time": "2021-07-15T21:29:05.936926Z"
    }
   },
   "outputs": [],
   "source": [
    "df.info()"
   ]
  },
  {
   "cell_type": "code",
   "execution_count": null,
   "metadata": {
    "ExecuteTime": {
     "end_time": "2021-07-15T21:29:23.543880Z",
     "start_time": "2021-07-15T21:29:23.517554Z"
    }
   },
   "outputs": [],
   "source": [
    "df.isna().sum()"
   ]
  },
  {
   "cell_type": "code",
   "execution_count": null,
   "metadata": {
    "ExecuteTime": {
     "end_time": "2021-07-15T21:29:41.248027Z",
     "start_time": "2021-07-15T21:29:41.193834Z"
    }
   },
   "outputs": [],
   "source": [
    "#dropping all null values from the location to get rid of any rows with out long/lat coordinates. \n",
    "df = df.dropna(subset = ['location'])\n",
    "df = df.dropna(subset = ['number_of_persons_killed'])\n",
    "df = df.dropna(subset = ['contributing_factor_vehicle_1'])\n",
    "df = df.dropna(subset = ['vehicle_type_code1'])"
   ]
  },
  {
   "cell_type": "code",
   "execution_count": null,
   "metadata": {
    "ExecuteTime": {
     "end_time": "2021-07-11T19:59:52.895507Z",
     "start_time": "2021-07-11T19:59:52.864479Z"
    }
   },
   "outputs": [],
   "source": [
    "df.isna().sum()"
   ]
  },
  {
   "cell_type": "code",
   "execution_count": null,
   "metadata": {
    "ExecuteTime": {
     "end_time": "2021-07-15T21:29:56.722178Z",
     "start_time": "2021-07-15T21:29:56.718391Z"
    }
   },
   "outputs": [],
   "source": [
    "df.shape"
   ]
  },
  {
   "cell_type": "code",
   "execution_count": null,
   "metadata": {
    "ExecuteTime": {
     "end_time": "2021-07-11T19:59:52.927218Z",
     "start_time": "2021-07-11T19:59:52.912204Z"
    }
   },
   "outputs": [],
   "source": [
    "#We eventually want to predict the contributing factor for the incident, \n",
    "#so looking at the different types of incidents and how often they occur.\n",
    "\n",
    "df['contributing_factor_vehicle_1'].value_counts()"
   ]
  },
  {
   "cell_type": "code",
   "execution_count": null,
   "metadata": {
    "ExecuteTime": {
     "end_time": "2021-07-11T19:59:52.990276Z",
     "start_time": "2021-07-11T19:59:52.928219Z"
    }
   },
   "outputs": [],
   "source": [
    "df.head(100)"
   ]
  },
  {
   "cell_type": "code",
   "execution_count": null,
   "metadata": {
    "ExecuteTime": {
     "end_time": "2021-07-11T19:59:53.006289Z",
     "start_time": "2021-07-11T19:59:52.991276Z"
    }
   },
   "outputs": [],
   "source": [
    "df.shape"
   ]
  },
  {
   "cell_type": "code",
   "execution_count": null,
   "metadata": {
    "ExecuteTime": {
     "end_time": "2021-07-15T21:30:12.696565Z",
     "start_time": "2021-07-15T21:30:12.673542Z"
    }
   },
   "outputs": [],
   "source": [
    "#Removing any rows where the cause of the accident was Unspecified. \n",
    "df = df[df.contributing_factor_vehicle_1 !=  'Unspecified']"
   ]
  },
  {
   "cell_type": "code",
   "execution_count": null,
   "metadata": {
    "ExecuteTime": {
     "end_time": "2021-07-11T19:59:53.070348Z",
     "start_time": "2021-07-11T19:59:53.023306Z"
    }
   },
   "outputs": [],
   "source": [
    "#This is one dirty data set.  \n",
    "#Looking at all of the different types of unique values in each column so we can create a game plane for cleaning.\n",
    "\n",
    "for col in df:\n",
    "    print(df[col].unique())"
   ]
  },
  {
   "cell_type": "code",
   "execution_count": null,
   "metadata": {
    "ExecuteTime": {
     "end_time": "2021-07-11T19:59:53.086362Z",
     "start_time": "2021-07-11T19:59:53.071350Z"
    }
   },
   "outputs": [],
   "source": [
    "df.on_street_name.nunique()"
   ]
  },
  {
   "cell_type": "code",
   "execution_count": null,
   "metadata": {
    "ExecuteTime": {
     "end_time": "2021-07-11T19:59:53.102378Z",
     "start_time": "2021-07-11T19:59:53.087363Z"
    }
   },
   "outputs": [],
   "source": [
    "df.shape"
   ]
  },
  {
   "cell_type": "code",
   "execution_count": null,
   "metadata": {
    "ExecuteTime": {
     "end_time": "2021-07-15T21:30:32.001218Z",
     "start_time": "2021-07-15T21:30:31.985836Z"
    }
   },
   "outputs": [],
   "source": [
    "#getting rid of any rows where the latitude or longitude was 0\n",
    "df = df[df.latitude !=  0]\n",
    "df = df[df.latitude !=  0]"
   ]
  },
  {
   "cell_type": "code",
   "execution_count": null,
   "metadata": {
    "ExecuteTime": {
     "end_time": "2021-07-11T19:59:53.150297Z",
     "start_time": "2021-07-11T19:59:53.135283Z"
    }
   },
   "outputs": [],
   "source": [
    "df.shape"
   ]
  },
  {
   "cell_type": "code",
   "execution_count": null,
   "metadata": {
    "ExecuteTime": {
     "end_time": "2021-07-11T19:59:53.166310Z",
     "start_time": "2021-07-11T19:59:53.151298Z"
    },
    "scrolled": false
   },
   "outputs": [],
   "source": [
    "df.vehicle_type_code1.nunique()"
   ]
  },
  {
   "cell_type": "code",
   "execution_count": null,
   "metadata": {
    "ExecuteTime": {
     "end_time": "2021-07-15T21:30:51.117460Z",
     "start_time": "2021-07-15T21:30:51.099772Z"
    }
   },
   "outputs": [],
   "source": [
    "df['vehicle_type_code1'] = df['vehicle_type_code1'].str.lower()"
   ]
  },
  {
   "cell_type": "code",
   "execution_count": null,
   "metadata": {
    "ExecuteTime": {
     "end_time": "2021-07-11T19:59:53.198341Z",
     "start_time": "2021-07-11T19:59:53.184327Z"
    }
   },
   "outputs": [],
   "source": [
    "df.vehicle_type_code1.nunique()"
   ]
  },
  {
   "cell_type": "code",
   "execution_count": null,
   "metadata": {
    "ExecuteTime": {
     "end_time": "2021-07-11T19:59:53.214354Z",
     "start_time": "2021-07-11T19:59:53.199341Z"
    }
   },
   "outputs": [],
   "source": [
    "df['vehicle_type_code1'].value_counts()"
   ]
  },
  {
   "cell_type": "code",
   "execution_count": null,
   "metadata": {
    "ExecuteTime": {
     "end_time": "2021-07-15T21:31:10.498044Z",
     "start_time": "2021-07-15T21:31:10.449192Z"
    }
   },
   "outputs": [],
   "source": [
    "df = df[df.groupby('vehicle_type_code1').vehicle_type_code1.transform(len) > 1]"
   ]
  },
  {
   "cell_type": "code",
   "execution_count": null,
   "metadata": {
    "ExecuteTime": {
     "end_time": "2021-07-11T19:59:53.277409Z",
     "start_time": "2021-07-11T19:59:53.262394Z"
    }
   },
   "outputs": [],
   "source": [
    "df.vehicle_type_code1.nunique()"
   ]
  },
  {
   "cell_type": "code",
   "execution_count": null,
   "metadata": {
    "ExecuteTime": {
     "end_time": "2021-07-11T19:59:53.293425Z",
     "start_time": "2021-07-11T19:59:53.278411Z"
    }
   },
   "outputs": [],
   "source": [
    "df.vehicle_type_code1.unique()"
   ]
  },
  {
   "cell_type": "code",
   "execution_count": null,
   "metadata": {
    "ExecuteTime": {
     "end_time": "2021-07-11T19:59:53.309439Z",
     "start_time": "2021-07-11T19:59:53.294426Z"
    }
   },
   "outputs": [],
   "source": [
    "df['vehicle_type_code1'].value_counts()"
   ]
  },
  {
   "cell_type": "code",
   "execution_count": null,
   "metadata": {
    "ExecuteTime": {
     "end_time": "2021-07-15T21:31:49.175792Z",
     "start_time": "2021-07-15T21:31:48.968967Z"
    }
   },
   "outputs": [],
   "source": [
    "df['vehicle_type_code1'] = df.vehicle_type_code1.replace(\n",
    "                               dict.fromkeys(['scoot','scooter','e-sco','e-scooter'], 'scooters'))\n",
    "\n",
    "df['vehicle_type_code1'] = df.vehicle_type_code1.replace(\n",
    "                               dict.fromkeys(['schoo','school bus'], 'school buses'))\n",
    "\n",
    "df['vehicle_type_code1'] = df.vehicle_type_code1.replace(\n",
    "                               dict.fromkeys(['e-bik','e bik','dirt','dirtbike', 'dirt bike', 'electric bikes', 'e-bike'], 'electric bikes'))\n",
    "\n",
    "df['vehicle_type_code1'] = df.vehicle_type_code1.replace(\n",
    "                               dict.fromkeys(['fire truck', 'ambul', 'ambulance', 'amb', 'stree', 'garbage or refuse'], 'city vehicles'))\n",
    "\n",
    "df['vehicle_type_code1'] = df.vehicle_type_code1.replace(\n",
    "                               dict.fromkeys(['tractor truck diesel', 'tractor truck gasoline'], 'tractor trucks'))\n",
    "\n",
    "df['vehicle_type_code1'] = df.vehicle_type_code1.replace(\n",
    "                               dict.fromkeys(['moped', 'motorscooter', 'minicycle', 'motor', 'motorcycle', 'motorbike'], 'motorcycles'))\n",
    "\n",
    "df['vehicle_type_code1'] = df.vehicle_type_code1.replace(\n",
    "                               dict.fromkeys(['fork', 'forkl', 'fork l', 'forklift', 'dump', 'tow truck / wrecker', 'concrete mixer', 'tanker', 'comme', 'flat rack'], 'construction vehicles'))\n",
    "\n",
    "df['vehicle_type_code1'] = df.vehicle_type_code1.replace(\n",
    "                               dict.fromkeys(['deliv','delv','usps','livery vehicle', 'beverage truck', 'refrigerated van'], 'delivery vehicles'))\n",
    "\n",
    "df['vehicle_type_code1'] = df.vehicle_type_code1.replace(\n",
    "                               dict.fromkeys(['sedan','4 dr sedan','2 dr sedan','3-door'], 'sedans'))\n",
    "\n",
    "df['vehicle_type_code1'] = df.vehicle_type_code1.replace(\n",
    "                               dict.fromkeys(['bike', 'bicycle', 'minibike'], 'bicycles'))\n",
    "\n",
    "df['vehicle_type_code1'] = df.vehicle_type_code1.replace(\n",
    "                               dict.fromkeys(['open body','carry all','golf'], 'open frame'))\n",
    "\n",
    "df['vehicle_type_code1'] = df.vehicle_type_code1.replace(\n",
    "                               dict.fromkeys(['pk','station wagon/sport utility vehicle','sport utility / station wagon'], 'SUV'))\n",
    "\n",
    "df['vehicle_type_code1'] = df.vehicle_type_code1.replace(\n",
    "                               dict.fromkeys(['pick-up truck', 'flat bed', 'chassis cab'], 'civilian truck'))\n",
    "\n",
    "df['vehicle_type_code1'] = df.vehicle_type_code1.replace(\n",
    "                               dict.fromkeys(['bus','mta b'], 'city buses'))\n",
    "\n",
    "df['vehicle_type_code1'] = df.vehicle_type_code1.replace(\n",
    "                               dict.fromkeys(['unknown','unkno','other'], 'unspecified'))\n",
    "\n",
    "df['vehicle_type_code1'] = df.vehicle_type_code1.replace(\n",
    "                               dict.fromkeys(['box truck','small com veh(4 tires)','large com veh(6 or more tires)','multi-wheeled vehicle', 'armored truck'], 'large commercial trucks'))"
   ]
  },
  {
   "cell_type": "code",
   "execution_count": null,
   "metadata": {
    "ExecuteTime": {
     "end_time": "2021-07-15T21:31:57.675780Z",
     "start_time": "2021-07-15T21:31:57.667206Z"
    },
    "scrolled": true
   },
   "outputs": [],
   "source": [
    "df['vehicle_type_code1'].value_counts()"
   ]
  },
  {
   "cell_type": "code",
   "execution_count": null,
   "metadata": {
    "ExecuteTime": {
     "end_time": "2021-07-15T21:32:06.467857Z",
     "start_time": "2021-07-15T21:32:06.457932Z"
    }
   },
   "outputs": [],
   "source": [
    "df.vehicle_type_code1.nunique()"
   ]
  },
  {
   "cell_type": "code",
   "execution_count": null,
   "metadata": {
    "ExecuteTime": {
     "end_time": "2021-07-15T21:32:43.693714Z",
     "start_time": "2021-07-15T21:32:43.384149Z"
    }
   },
   "outputs": [],
   "source": [
    "df.to_csv('data/clean_vehicle_type.csv', index= False)"
   ]
  },
  {
   "cell_type": "markdown",
   "metadata": {},
   "source": [
    "### Merge 2 cleaned DataFrames"
   ]
  },
  {
   "cell_type": "code",
   "execution_count": 21,
   "metadata": {
    "ExecuteTime": {
     "end_time": "2021-07-15T22:10:59.627057Z",
     "start_time": "2021-07-15T22:10:59.502195Z"
    }
   },
   "outputs": [],
   "source": [
    "df = pd.read_csv('data/clean_vehicle_type.csv')"
   ]
  },
  {
   "cell_type": "code",
   "execution_count": 22,
   "metadata": {
    "ExecuteTime": {
     "end_time": "2021-07-15T22:11:01.043162Z",
     "start_time": "2021-07-15T22:11:00.886826Z"
    }
   },
   "outputs": [],
   "source": [
    "df2 = pd.read_csv('data/cleaned.csv')"
   ]
  },
  {
   "cell_type": "code",
   "execution_count": 23,
   "metadata": {
    "ExecuteTime": {
     "end_time": "2021-07-15T22:11:04.827938Z",
     "start_time": "2021-07-15T22:11:04.811698Z"
    },
    "scrolled": true
   },
   "outputs": [
    {
     "data": {
      "text/html": [
       "<div>\n",
       "<style scoped>\n",
       "    .dataframe tbody tr th:only-of-type {\n",
       "        vertical-align: middle;\n",
       "    }\n",
       "\n",
       "    .dataframe tbody tr th {\n",
       "        vertical-align: top;\n",
       "    }\n",
       "\n",
       "    .dataframe thead th {\n",
       "        text-align: right;\n",
       "    }\n",
       "</style>\n",
       "<table border=\"1\" class=\"dataframe\">\n",
       "  <thead>\n",
       "    <tr style=\"text-align: right;\">\n",
       "      <th></th>\n",
       "      <th>borough</th>\n",
       "      <th>contributing_factor_vehicle_1</th>\n",
       "      <th>timestamp</th>\n",
       "      <th>latitude</th>\n",
       "      <th>longitude</th>\n",
       "      <th>location</th>\n",
       "      <th>number_of_cyclist_injured</th>\n",
       "      <th>number_of_cyclist_killed</th>\n",
       "      <th>number_of_motorist_injured</th>\n",
       "      <th>number_of_motorist_killed</th>\n",
       "      <th>number_of_pedestrians_injured</th>\n",
       "      <th>number_of_pedestrians_killed</th>\n",
       "      <th>number_of_persons_injured</th>\n",
       "      <th>number_of_persons_killed</th>\n",
       "      <th>on_street_name</th>\n",
       "      <th>unique_key</th>\n",
       "      <th>vehicle_type_code1</th>\n",
       "      <th>geometry</th>\n",
       "      <th>zipcode</th>\n",
       "    </tr>\n",
       "  </thead>\n",
       "  <tbody>\n",
       "    <tr>\n",
       "      <th>0</th>\n",
       "      <td>Queens</td>\n",
       "      <td>Driver Inattention/Distraction</td>\n",
       "      <td>4/6/2019 9:50</td>\n",
       "      <td>40.592907</td>\n",
       "      <td>-73.795310</td>\n",
       "      <td>(40.592907, -73.79531)</td>\n",
       "      <td>0</td>\n",
       "      <td>0</td>\n",
       "      <td>0</td>\n",
       "      <td>0</td>\n",
       "      <td>1</td>\n",
       "      <td>0</td>\n",
       "      <td>1</td>\n",
       "      <td>0.0</td>\n",
       "      <td>BEACH CHANNEL DRIVE</td>\n",
       "      <td>4109774</td>\n",
       "      <td>Sedan</td>\n",
       "      <td>POINT (-73.79531 40.592907)</td>\n",
       "      <td>11692</td>\n",
       "    </tr>\n",
       "    <tr>\n",
       "      <th>1</th>\n",
       "      <td>Manhattan</td>\n",
       "      <td>Alcohol Involvement</td>\n",
       "      <td>2/17/2013 0:20</td>\n",
       "      <td>40.733633</td>\n",
       "      <td>-74.002786</td>\n",
       "      <td>(40.7336333, -74.0027856)</td>\n",
       "      <td>0</td>\n",
       "      <td>0</td>\n",
       "      <td>0</td>\n",
       "      <td>0</td>\n",
       "      <td>2</td>\n",
       "      <td>0</td>\n",
       "      <td>2</td>\n",
       "      <td>0.0</td>\n",
       "      <td>CHRISTOPHER STREET</td>\n",
       "      <td>10452</td>\n",
       "      <td>PASSENGER VEHICLE</td>\n",
       "      <td>POINT (-74.0027856 40.7336333)</td>\n",
       "      <td>10014</td>\n",
       "    </tr>\n",
       "    <tr>\n",
       "      <th>2</th>\n",
       "      <td>Queens</td>\n",
       "      <td>Failure to Keep Right</td>\n",
       "      <td>3/14/2016 13:00</td>\n",
       "      <td>40.674000</td>\n",
       "      <td>-73.872100</td>\n",
       "      <td>(40.674, -73.8721)</td>\n",
       "      <td>0</td>\n",
       "      <td>0</td>\n",
       "      <td>0</td>\n",
       "      <td>0</td>\n",
       "      <td>1</td>\n",
       "      <td>0</td>\n",
       "      <td>1</td>\n",
       "      <td>0.0</td>\n",
       "      <td>QUEENS BOULEVARD</td>\n",
       "      <td>3425418</td>\n",
       "      <td>4 dr sedan</td>\n",
       "      <td>POINT (-73.8721 40.674)</td>\n",
       "      <td>11104</td>\n",
       "    </tr>\n",
       "    <tr>\n",
       "      <th>3</th>\n",
       "      <td>Bronx</td>\n",
       "      <td>Traffic Control Disregarded</td>\n",
       "      <td>1/1/2014 9:30</td>\n",
       "      <td>40.842464</td>\n",
       "      <td>-73.924135</td>\n",
       "      <td>(40.8424645, -73.9241348)</td>\n",
       "      <td>0</td>\n",
       "      <td>0</td>\n",
       "      <td>1</td>\n",
       "      <td>0</td>\n",
       "      <td>2</td>\n",
       "      <td>0</td>\n",
       "      <td>3</td>\n",
       "      <td>0.0</td>\n",
       "      <td>OGDEN AVENUE</td>\n",
       "      <td>88175</td>\n",
       "      <td>UNKNOWN</td>\n",
       "      <td>POINT (-73.9241348 40.8424645)</td>\n",
       "      <td>10452</td>\n",
       "    </tr>\n",
       "    <tr>\n",
       "      <th>4</th>\n",
       "      <td>Manhattan</td>\n",
       "      <td>Other Vehicular</td>\n",
       "      <td>3/12/2015 10:00</td>\n",
       "      <td>40.771783</td>\n",
       "      <td>-73.965435</td>\n",
       "      <td>(40.7717829, -73.9654346)</td>\n",
       "      <td>0</td>\n",
       "      <td>0</td>\n",
       "      <td>0</td>\n",
       "      <td>0</td>\n",
       "      <td>1</td>\n",
       "      <td>0</td>\n",
       "      <td>1</td>\n",
       "      <td>0.0</td>\n",
       "      <td>EAST 72 STREET</td>\n",
       "      <td>3184765</td>\n",
       "      <td>TAXI</td>\n",
       "      <td>POINT (-73.96543459999999 40.7717829)</td>\n",
       "      <td>10021</td>\n",
       "    </tr>\n",
       "    <tr>\n",
       "      <th>5</th>\n",
       "      <td>Manhattan</td>\n",
       "      <td>Driver Inattention/Distraction</td>\n",
       "      <td>7/25/2017 0:00</td>\n",
       "      <td>40.798560</td>\n",
       "      <td>-73.963370</td>\n",
       "      <td>(40.79856, -73.96337)</td>\n",
       "      <td>0</td>\n",
       "      <td>0</td>\n",
       "      <td>1</td>\n",
       "      <td>0</td>\n",
       "      <td>1</td>\n",
       "      <td>0</td>\n",
       "      <td>2</td>\n",
       "      <td>0.0</td>\n",
       "      <td>COLUMBUS AVENUE</td>\n",
       "      <td>3718901</td>\n",
       "      <td>Sedan</td>\n",
       "      <td>POINT (-73.96337 40.79856)</td>\n",
       "      <td>10025</td>\n",
       "    </tr>\n",
       "    <tr>\n",
       "      <th>6</th>\n",
       "      <td>Brooklyn</td>\n",
       "      <td>Physical Disability</td>\n",
       "      <td>10/22/2014 17:50</td>\n",
       "      <td>40.674222</td>\n",
       "      <td>-74.011179</td>\n",
       "      <td>(40.6742224, -74.0111793)</td>\n",
       "      <td>0</td>\n",
       "      <td>0</td>\n",
       "      <td>2</td>\n",
       "      <td>0</td>\n",
       "      <td>1</td>\n",
       "      <td>0</td>\n",
       "      <td>3</td>\n",
       "      <td>0.0</td>\n",
       "      <td>DWIGHT STREET</td>\n",
       "      <td>2812620</td>\n",
       "      <td>BUS</td>\n",
       "      <td>POINT (-74.01117929999999 40.6742224)</td>\n",
       "      <td>11231</td>\n",
       "    </tr>\n",
       "    <tr>\n",
       "      <th>7</th>\n",
       "      <td>Brooklyn</td>\n",
       "      <td>Backing Unsafely</td>\n",
       "      <td>10/2/2017 8:54</td>\n",
       "      <td>40.711980</td>\n",
       "      <td>-73.968030</td>\n",
       "      <td>(40.71198, -73.96803)</td>\n",
       "      <td>0</td>\n",
       "      <td>0</td>\n",
       "      <td>0</td>\n",
       "      <td>0</td>\n",
       "      <td>1</td>\n",
       "      <td>0</td>\n",
       "      <td>1</td>\n",
       "      <td>0.0</td>\n",
       "      <td>KENT AVENUE</td>\n",
       "      <td>3770541</td>\n",
       "      <td>PK</td>\n",
       "      <td>POINT (-73.96803 40.71198)</td>\n",
       "      <td>11249</td>\n",
       "    </tr>\n",
       "    <tr>\n",
       "      <th>8</th>\n",
       "      <td>Manhattan</td>\n",
       "      <td>Failure to Yield Right-of-Way</td>\n",
       "      <td>6/11/2014 7:40</td>\n",
       "      <td>40.767813</td>\n",
       "      <td>-73.962014</td>\n",
       "      <td>(40.7678129, -73.9620143)</td>\n",
       "      <td>0</td>\n",
       "      <td>0</td>\n",
       "      <td>0</td>\n",
       "      <td>0</td>\n",
       "      <td>1</td>\n",
       "      <td>0</td>\n",
       "      <td>1</td>\n",
       "      <td>0.0</td>\n",
       "      <td>3 AVENUE</td>\n",
       "      <td>349716</td>\n",
       "      <td>TAXI</td>\n",
       "      <td>POINT (-73.96201429999999 40.7678129)</td>\n",
       "      <td>10021</td>\n",
       "    </tr>\n",
       "    <tr>\n",
       "      <th>9</th>\n",
       "      <td>Brooklyn</td>\n",
       "      <td>Driver Inattention/Distraction</td>\n",
       "      <td>7/7/2020 18:01</td>\n",
       "      <td>40.659225</td>\n",
       "      <td>-73.953390</td>\n",
       "      <td>(40.659225, -73.95339)</td>\n",
       "      <td>0</td>\n",
       "      <td>0</td>\n",
       "      <td>1</td>\n",
       "      <td>0</td>\n",
       "      <td>1</td>\n",
       "      <td>0</td>\n",
       "      <td>2</td>\n",
       "      <td>0.0</td>\n",
       "      <td>ROGERS AVENUE</td>\n",
       "      <td>4326465</td>\n",
       "      <td>Station Wagon/Sport Utility Vehicle</td>\n",
       "      <td>POINT (-73.95339 40.659225)</td>\n",
       "      <td>11225</td>\n",
       "    </tr>\n",
       "    <tr>\n",
       "      <th>10</th>\n",
       "      <td>Bronx</td>\n",
       "      <td>Driver Inexperience</td>\n",
       "      <td>10/21/2017 11:05</td>\n",
       "      <td>40.850166</td>\n",
       "      <td>-73.844925</td>\n",
       "      <td>(40.850166, -73.844925)</td>\n",
       "      <td>0</td>\n",
       "      <td>0</td>\n",
       "      <td>0</td>\n",
       "      <td>0</td>\n",
       "      <td>1</td>\n",
       "      <td>0</td>\n",
       "      <td>1</td>\n",
       "      <td>0.0</td>\n",
       "      <td>SACKETT AVENUE</td>\n",
       "      <td>3773689</td>\n",
       "      <td>Station Wagon/Sport Utility Vehicle</td>\n",
       "      <td>POINT (-73.844925 40.850166)</td>\n",
       "      <td>10461</td>\n",
       "    </tr>\n",
       "    <tr>\n",
       "      <th>11</th>\n",
       "      <td>Bronx</td>\n",
       "      <td>Unsafe Lane Changing</td>\n",
       "      <td>6/26/2017 13:00</td>\n",
       "      <td>40.840225</td>\n",
       "      <td>-73.917690</td>\n",
       "      <td>(40.840225, -73.91769)</td>\n",
       "      <td>0</td>\n",
       "      <td>0</td>\n",
       "      <td>0</td>\n",
       "      <td>0</td>\n",
       "      <td>1</td>\n",
       "      <td>0</td>\n",
       "      <td>1</td>\n",
       "      <td>0.0</td>\n",
       "      <td>JEROME AVENUE</td>\n",
       "      <td>3700054</td>\n",
       "      <td>Sedan</td>\n",
       "      <td>POINT (-73.91769000000001 40.840225)</td>\n",
       "      <td>10452</td>\n",
       "    </tr>\n",
       "    <tr>\n",
       "      <th>12</th>\n",
       "      <td>Manhattan</td>\n",
       "      <td>Turning Improperly</td>\n",
       "      <td>4/5/2021 19:42</td>\n",
       "      <td>40.800972</td>\n",
       "      <td>-73.947174</td>\n",
       "      <td>(40.800972, -73.947174)</td>\n",
       "      <td>0</td>\n",
       "      <td>0</td>\n",
       "      <td>1</td>\n",
       "      <td>0</td>\n",
       "      <td>1</td>\n",
       "      <td>0</td>\n",
       "      <td>2</td>\n",
       "      <td>0.0</td>\n",
       "      <td>WEST 116TH STREET</td>\n",
       "      <td>4407771</td>\n",
       "      <td>Station Wagon/Sport Utility Vehicle</td>\n",
       "      <td>POINT (-73.947174 40.800972)</td>\n",
       "      <td>10026</td>\n",
       "    </tr>\n",
       "    <tr>\n",
       "      <th>13</th>\n",
       "      <td>Bronx</td>\n",
       "      <td>Other Vehicular</td>\n",
       "      <td>3/19/2017 23:08</td>\n",
       "      <td>40.819016</td>\n",
       "      <td>-73.848040</td>\n",
       "      <td>(40.819016, -73.84804)</td>\n",
       "      <td>0</td>\n",
       "      <td>0</td>\n",
       "      <td>1</td>\n",
       "      <td>0</td>\n",
       "      <td>1</td>\n",
       "      <td>0</td>\n",
       "      <td>2</td>\n",
       "      <td>0.0</td>\n",
       "      <td>CASTLE HILL AVENUE</td>\n",
       "      <td>3635352</td>\n",
       "      <td>Sedan</td>\n",
       "      <td>POINT (-73.84804 40.819016)</td>\n",
       "      <td>10473</td>\n",
       "    </tr>\n",
       "    <tr>\n",
       "      <th>14</th>\n",
       "      <td>Manhattan</td>\n",
       "      <td>Failure to Yield Right-of-Way</td>\n",
       "      <td>3/10/2015 15:15</td>\n",
       "      <td>40.729432</td>\n",
       "      <td>-73.978027</td>\n",
       "      <td>(40.7294318, -73.978027)</td>\n",
       "      <td>0</td>\n",
       "      <td>0</td>\n",
       "      <td>0</td>\n",
       "      <td>0</td>\n",
       "      <td>1</td>\n",
       "      <td>0</td>\n",
       "      <td>1</td>\n",
       "      <td>0.0</td>\n",
       "      <td>EAST 14 STREET</td>\n",
       "      <td>3183499</td>\n",
       "      <td>OTHER</td>\n",
       "      <td>POINT (-73.978027 40.7294318)</td>\n",
       "      <td>10009</td>\n",
       "    </tr>\n",
       "  </tbody>\n",
       "</table>\n",
       "</div>"
      ],
      "text/plain": [
       "      borough   contributing_factor_vehicle_1         timestamp   latitude  \\\n",
       "0      Queens  Driver Inattention/Distraction     4/6/2019 9:50  40.592907   \n",
       "1   Manhattan             Alcohol Involvement    2/17/2013 0:20  40.733633   \n",
       "2      Queens           Failure to Keep Right   3/14/2016 13:00  40.674000   \n",
       "3       Bronx     Traffic Control Disregarded     1/1/2014 9:30  40.842464   \n",
       "4   Manhattan                 Other Vehicular   3/12/2015 10:00  40.771783   \n",
       "5   Manhattan  Driver Inattention/Distraction    7/25/2017 0:00  40.798560   \n",
       "6    Brooklyn             Physical Disability  10/22/2014 17:50  40.674222   \n",
       "7    Brooklyn                Backing Unsafely    10/2/2017 8:54  40.711980   \n",
       "8   Manhattan   Failure to Yield Right-of-Way    6/11/2014 7:40  40.767813   \n",
       "9    Brooklyn  Driver Inattention/Distraction    7/7/2020 18:01  40.659225   \n",
       "10      Bronx             Driver Inexperience  10/21/2017 11:05  40.850166   \n",
       "11      Bronx            Unsafe Lane Changing   6/26/2017 13:00  40.840225   \n",
       "12  Manhattan              Turning Improperly    4/5/2021 19:42  40.800972   \n",
       "13      Bronx                 Other Vehicular   3/19/2017 23:08  40.819016   \n",
       "14  Manhattan   Failure to Yield Right-of-Way   3/10/2015 15:15  40.729432   \n",
       "\n",
       "    longitude                   location  number_of_cyclist_injured  \\\n",
       "0  -73.795310     (40.592907, -73.79531)                          0   \n",
       "1  -74.002786  (40.7336333, -74.0027856)                          0   \n",
       "2  -73.872100         (40.674, -73.8721)                          0   \n",
       "3  -73.924135  (40.8424645, -73.9241348)                          0   \n",
       "4  -73.965435  (40.7717829, -73.9654346)                          0   \n",
       "5  -73.963370      (40.79856, -73.96337)                          0   \n",
       "6  -74.011179  (40.6742224, -74.0111793)                          0   \n",
       "7  -73.968030      (40.71198, -73.96803)                          0   \n",
       "8  -73.962014  (40.7678129, -73.9620143)                          0   \n",
       "9  -73.953390     (40.659225, -73.95339)                          0   \n",
       "10 -73.844925    (40.850166, -73.844925)                          0   \n",
       "11 -73.917690     (40.840225, -73.91769)                          0   \n",
       "12 -73.947174    (40.800972, -73.947174)                          0   \n",
       "13 -73.848040     (40.819016, -73.84804)                          0   \n",
       "14 -73.978027   (40.7294318, -73.978027)                          0   \n",
       "\n",
       "    number_of_cyclist_killed  number_of_motorist_injured  \\\n",
       "0                          0                           0   \n",
       "1                          0                           0   \n",
       "2                          0                           0   \n",
       "3                          0                           1   \n",
       "4                          0                           0   \n",
       "5                          0                           1   \n",
       "6                          0                           2   \n",
       "7                          0                           0   \n",
       "8                          0                           0   \n",
       "9                          0                           1   \n",
       "10                         0                           0   \n",
       "11                         0                           0   \n",
       "12                         0                           1   \n",
       "13                         0                           1   \n",
       "14                         0                           0   \n",
       "\n",
       "    number_of_motorist_killed  number_of_pedestrians_injured  \\\n",
       "0                           0                              1   \n",
       "1                           0                              2   \n",
       "2                           0                              1   \n",
       "3                           0                              2   \n",
       "4                           0                              1   \n",
       "5                           0                              1   \n",
       "6                           0                              1   \n",
       "7                           0                              1   \n",
       "8                           0                              1   \n",
       "9                           0                              1   \n",
       "10                          0                              1   \n",
       "11                          0                              1   \n",
       "12                          0                              1   \n",
       "13                          0                              1   \n",
       "14                          0                              1   \n",
       "\n",
       "    number_of_pedestrians_killed  number_of_persons_injured  \\\n",
       "0                              0                          1   \n",
       "1                              0                          2   \n",
       "2                              0                          1   \n",
       "3                              0                          3   \n",
       "4                              0                          1   \n",
       "5                              0                          2   \n",
       "6                              0                          3   \n",
       "7                              0                          1   \n",
       "8                              0                          1   \n",
       "9                              0                          2   \n",
       "10                             0                          1   \n",
       "11                             0                          1   \n",
       "12                             0                          2   \n",
       "13                             0                          2   \n",
       "14                             0                          1   \n",
       "\n",
       "    number_of_persons_killed       on_street_name  unique_key  \\\n",
       "0                        0.0  BEACH CHANNEL DRIVE     4109774   \n",
       "1                        0.0   CHRISTOPHER STREET       10452   \n",
       "2                        0.0     QUEENS BOULEVARD     3425418   \n",
       "3                        0.0         OGDEN AVENUE       88175   \n",
       "4                        0.0       EAST 72 STREET     3184765   \n",
       "5                        0.0      COLUMBUS AVENUE     3718901   \n",
       "6                        0.0        DWIGHT STREET     2812620   \n",
       "7                        0.0          KENT AVENUE     3770541   \n",
       "8                        0.0             3 AVENUE      349716   \n",
       "9                        0.0        ROGERS AVENUE     4326465   \n",
       "10                       0.0       SACKETT AVENUE     3773689   \n",
       "11                       0.0        JEROME AVENUE     3700054   \n",
       "12                       0.0    WEST 116TH STREET     4407771   \n",
       "13                       0.0   CASTLE HILL AVENUE     3635352   \n",
       "14                       0.0       EAST 14 STREET     3183499   \n",
       "\n",
       "                     vehicle_type_code1  \\\n",
       "0                                 Sedan   \n",
       "1                     PASSENGER VEHICLE   \n",
       "2                            4 dr sedan   \n",
       "3                               UNKNOWN   \n",
       "4                                  TAXI   \n",
       "5                                 Sedan   \n",
       "6                                   BUS   \n",
       "7                                    PK   \n",
       "8                                  TAXI   \n",
       "9   Station Wagon/Sport Utility Vehicle   \n",
       "10  Station Wagon/Sport Utility Vehicle   \n",
       "11                                Sedan   \n",
       "12  Station Wagon/Sport Utility Vehicle   \n",
       "13                                Sedan   \n",
       "14                                OTHER   \n",
       "\n",
       "                                 geometry  zipcode  \n",
       "0             POINT (-73.79531 40.592907)    11692  \n",
       "1          POINT (-74.0027856 40.7336333)    10014  \n",
       "2                 POINT (-73.8721 40.674)    11104  \n",
       "3          POINT (-73.9241348 40.8424645)    10452  \n",
       "4   POINT (-73.96543459999999 40.7717829)    10021  \n",
       "5              POINT (-73.96337 40.79856)    10025  \n",
       "6   POINT (-74.01117929999999 40.6742224)    11231  \n",
       "7              POINT (-73.96803 40.71198)    11249  \n",
       "8   POINT (-73.96201429999999 40.7678129)    10021  \n",
       "9             POINT (-73.95339 40.659225)    11225  \n",
       "10           POINT (-73.844925 40.850166)    10461  \n",
       "11   POINT (-73.91769000000001 40.840225)    10452  \n",
       "12           POINT (-73.947174 40.800972)    10026  \n",
       "13            POINT (-73.84804 40.819016)    10473  \n",
       "14          POINT (-73.978027 40.7294318)    10009  "
      ]
     },
     "execution_count": 23,
     "metadata": {},
     "output_type": "execute_result"
    }
   ],
   "source": [
    "df2.head(15)"
   ]
  },
  {
   "cell_type": "code",
   "execution_count": 25,
   "metadata": {
    "ExecuteTime": {
     "end_time": "2021-07-15T22:11:31.276670Z",
     "start_time": "2021-07-15T22:11:31.272260Z"
    }
   },
   "outputs": [],
   "source": [
    "# limit df to only the columns we want to merge and key column to join them on\n",
    "df2 = df2[['borough', 'unique_key', 'on_street_name', 'zipcode']]"
   ]
  },
  {
   "cell_type": "code",
   "execution_count": 26,
   "metadata": {
    "ExecuteTime": {
     "end_time": "2021-07-15T22:11:42.342053Z",
     "start_time": "2021-07-15T22:11:42.331017Z"
    }
   },
   "outputs": [
    {
     "data": {
      "text/html": [
       "<div>\n",
       "<style scoped>\n",
       "    .dataframe tbody tr th:only-of-type {\n",
       "        vertical-align: middle;\n",
       "    }\n",
       "\n",
       "    .dataframe tbody tr th {\n",
       "        vertical-align: top;\n",
       "    }\n",
       "\n",
       "    .dataframe thead th {\n",
       "        text-align: right;\n",
       "    }\n",
       "</style>\n",
       "<table border=\"1\" class=\"dataframe\">\n",
       "  <thead>\n",
       "    <tr style=\"text-align: right;\">\n",
       "      <th></th>\n",
       "      <th>borough</th>\n",
       "      <th>unique_key</th>\n",
       "      <th>on_street_name</th>\n",
       "      <th>zipcode</th>\n",
       "    </tr>\n",
       "  </thead>\n",
       "  <tbody>\n",
       "    <tr>\n",
       "      <th>0</th>\n",
       "      <td>Queens</td>\n",
       "      <td>4109774</td>\n",
       "      <td>BEACH CHANNEL DRIVE</td>\n",
       "      <td>11692</td>\n",
       "    </tr>\n",
       "    <tr>\n",
       "      <th>1</th>\n",
       "      <td>Manhattan</td>\n",
       "      <td>10452</td>\n",
       "      <td>CHRISTOPHER STREET</td>\n",
       "      <td>10014</td>\n",
       "    </tr>\n",
       "    <tr>\n",
       "      <th>2</th>\n",
       "      <td>Queens</td>\n",
       "      <td>3425418</td>\n",
       "      <td>QUEENS BOULEVARD</td>\n",
       "      <td>11104</td>\n",
       "    </tr>\n",
       "    <tr>\n",
       "      <th>3</th>\n",
       "      <td>Bronx</td>\n",
       "      <td>88175</td>\n",
       "      <td>OGDEN AVENUE</td>\n",
       "      <td>10452</td>\n",
       "    </tr>\n",
       "    <tr>\n",
       "      <th>4</th>\n",
       "      <td>Manhattan</td>\n",
       "      <td>3184765</td>\n",
       "      <td>EAST 72 STREET</td>\n",
       "      <td>10021</td>\n",
       "    </tr>\n",
       "    <tr>\n",
       "      <th>...</th>\n",
       "      <td>...</td>\n",
       "      <td>...</td>\n",
       "      <td>...</td>\n",
       "      <td>...</td>\n",
       "    </tr>\n",
       "    <tr>\n",
       "      <th>45265</th>\n",
       "      <td>Bronx</td>\n",
       "      <td>3460412</td>\n",
       "      <td>EAST 219 STREET</td>\n",
       "      <td>10469</td>\n",
       "    </tr>\n",
       "    <tr>\n",
       "      <th>45266</th>\n",
       "      <td>Bronx</td>\n",
       "      <td>3954948</td>\n",
       "      <td>EAST 219 STREET</td>\n",
       "      <td>10469</td>\n",
       "    </tr>\n",
       "    <tr>\n",
       "      <th>45267</th>\n",
       "      <td>Bronx</td>\n",
       "      <td>4200091</td>\n",
       "      <td>BRONXWOOD AVENUE</td>\n",
       "      <td>10469</td>\n",
       "    </tr>\n",
       "    <tr>\n",
       "      <th>45268</th>\n",
       "      <td>Bronx</td>\n",
       "      <td>4404957</td>\n",
       "      <td>EAST 222ND STREET</td>\n",
       "      <td>10469</td>\n",
       "    </tr>\n",
       "    <tr>\n",
       "      <th>45269</th>\n",
       "      <td>Bronx</td>\n",
       "      <td>4140807</td>\n",
       "      <td>EAST GUN HILL ROAD</td>\n",
       "      <td>10469</td>\n",
       "    </tr>\n",
       "  </tbody>\n",
       "</table>\n",
       "<p>45270 rows × 4 columns</p>\n",
       "</div>"
      ],
      "text/plain": [
       "         borough  unique_key       on_street_name  zipcode\n",
       "0         Queens     4109774  BEACH CHANNEL DRIVE    11692\n",
       "1      Manhattan       10452   CHRISTOPHER STREET    10014\n",
       "2         Queens     3425418     QUEENS BOULEVARD    11104\n",
       "3          Bronx       88175         OGDEN AVENUE    10452\n",
       "4      Manhattan     3184765       EAST 72 STREET    10021\n",
       "...          ...         ...                  ...      ...\n",
       "45265      Bronx     3460412      EAST 219 STREET    10469\n",
       "45266      Bronx     3954948      EAST 219 STREET    10469\n",
       "45267      Bronx     4200091     BRONXWOOD AVENUE    10469\n",
       "45268      Bronx     4404957    EAST 222ND STREET    10469\n",
       "45269      Bronx     4140807   EAST GUN HILL ROAD    10469\n",
       "\n",
       "[45270 rows x 4 columns]"
      ]
     },
     "execution_count": 26,
     "metadata": {},
     "output_type": "execute_result"
    }
   ],
   "source": [
    "df2"
   ]
  },
  {
   "cell_type": "code",
   "execution_count": 30,
   "metadata": {
    "ExecuteTime": {
     "end_time": "2021-07-15T22:13:09.611921Z",
     "start_time": "2021-07-15T22:13:09.574786Z"
    }
   },
   "outputs": [],
   "source": [
    "# merge both dataframes to get clean data on one file\n",
    "merged_df = pd.merge(left= df, \n",
    "                     right= df2, \n",
    "                     how= 'inner', \n",
    "                     left_on= 'unique_key', \n",
    "                     right_on= 'unique_key', suffixes= ('', '_y'))"
   ]
  },
  {
   "cell_type": "code",
   "execution_count": 31,
   "metadata": {
    "ExecuteTime": {
     "end_time": "2021-07-15T22:13:10.257196Z",
     "start_time": "2021-07-15T22:13:10.236178Z"
    }
   },
   "outputs": [
    {
     "data": {
      "text/html": [
       "<div>\n",
       "<style scoped>\n",
       "    .dataframe tbody tr th:only-of-type {\n",
       "        vertical-align: middle;\n",
       "    }\n",
       "\n",
       "    .dataframe tbody tr th {\n",
       "        vertical-align: top;\n",
       "    }\n",
       "\n",
       "    .dataframe thead th {\n",
       "        text-align: right;\n",
       "    }\n",
       "</style>\n",
       "<table border=\"1\" class=\"dataframe\">\n",
       "  <thead>\n",
       "    <tr style=\"text-align: right;\">\n",
       "      <th></th>\n",
       "      <th>borough</th>\n",
       "      <th>contributing_factor_vehicle_1</th>\n",
       "      <th>timestamp</th>\n",
       "      <th>latitude</th>\n",
       "      <th>longitude</th>\n",
       "      <th>location</th>\n",
       "      <th>number_of_cyclist_injured</th>\n",
       "      <th>number_of_cyclist_killed</th>\n",
       "      <th>number_of_motorist_injured</th>\n",
       "      <th>number_of_motorist_killed</th>\n",
       "      <th>...</th>\n",
       "      <th>number_of_pedestrians_killed</th>\n",
       "      <th>number_of_persons_injured</th>\n",
       "      <th>number_of_persons_killed</th>\n",
       "      <th>on_street_name</th>\n",
       "      <th>unique_key</th>\n",
       "      <th>vehicle_type_code1</th>\n",
       "      <th>zip_code</th>\n",
       "      <th>borough_y</th>\n",
       "      <th>on_street_name_y</th>\n",
       "      <th>zipcode</th>\n",
       "    </tr>\n",
       "  </thead>\n",
       "  <tbody>\n",
       "    <tr>\n",
       "      <th>0</th>\n",
       "      <td>QUEENS</td>\n",
       "      <td>Driver Inattention/Distraction</td>\n",
       "      <td>4/6/2019 9:50</td>\n",
       "      <td>40.592907</td>\n",
       "      <td>-73.795310</td>\n",
       "      <td>(40.592907, -73.79531)</td>\n",
       "      <td>0</td>\n",
       "      <td>0</td>\n",
       "      <td>0</td>\n",
       "      <td>0</td>\n",
       "      <td>...</td>\n",
       "      <td>0</td>\n",
       "      <td>1</td>\n",
       "      <td>0.0</td>\n",
       "      <td>NaN</td>\n",
       "      <td>4109774</td>\n",
       "      <td>sedans</td>\n",
       "      <td>11692.0</td>\n",
       "      <td>Queens</td>\n",
       "      <td>BEACH CHANNEL DRIVE</td>\n",
       "      <td>11692</td>\n",
       "    </tr>\n",
       "    <tr>\n",
       "      <th>1</th>\n",
       "      <td>MANHATTAN</td>\n",
       "      <td>Alcohol Involvement</td>\n",
       "      <td>2/17/2013 0:20</td>\n",
       "      <td>40.733633</td>\n",
       "      <td>-74.002786</td>\n",
       "      <td>(40.7336333, -74.0027856)</td>\n",
       "      <td>0</td>\n",
       "      <td>0</td>\n",
       "      <td>0</td>\n",
       "      <td>0</td>\n",
       "      <td>...</td>\n",
       "      <td>0</td>\n",
       "      <td>2</td>\n",
       "      <td>0.0</td>\n",
       "      <td>CHRISTOPHER STREET</td>\n",
       "      <td>10452</td>\n",
       "      <td>passenger vehicle</td>\n",
       "      <td>10014.0</td>\n",
       "      <td>Manhattan</td>\n",
       "      <td>CHRISTOPHER STREET</td>\n",
       "      <td>10014</td>\n",
       "    </tr>\n",
       "    <tr>\n",
       "      <th>2</th>\n",
       "      <td>QUEENS</td>\n",
       "      <td>Failure to Keep Right</td>\n",
       "      <td>3/14/2016 13:00</td>\n",
       "      <td>40.674000</td>\n",
       "      <td>-73.872100</td>\n",
       "      <td>(40.674, -73.8721)</td>\n",
       "      <td>0</td>\n",
       "      <td>0</td>\n",
       "      <td>0</td>\n",
       "      <td>0</td>\n",
       "      <td>...</td>\n",
       "      <td>0</td>\n",
       "      <td>1</td>\n",
       "      <td>0.0</td>\n",
       "      <td>QUEENS BOULEVARD</td>\n",
       "      <td>3425418</td>\n",
       "      <td>sedans</td>\n",
       "      <td>11104.0</td>\n",
       "      <td>Queens</td>\n",
       "      <td>QUEENS BOULEVARD</td>\n",
       "      <td>11104</td>\n",
       "    </tr>\n",
       "    <tr>\n",
       "      <th>3</th>\n",
       "      <td>BRONX</td>\n",
       "      <td>Traffic Control Disregarded</td>\n",
       "      <td>1/1/2014 9:30</td>\n",
       "      <td>40.842464</td>\n",
       "      <td>-73.924135</td>\n",
       "      <td>(40.8424645, -73.9241348)</td>\n",
       "      <td>0</td>\n",
       "      <td>0</td>\n",
       "      <td>1</td>\n",
       "      <td>0</td>\n",
       "      <td>...</td>\n",
       "      <td>0</td>\n",
       "      <td>3</td>\n",
       "      <td>0.0</td>\n",
       "      <td>OGDEN AVENUE</td>\n",
       "      <td>88175</td>\n",
       "      <td>unspecified</td>\n",
       "      <td>10452.0</td>\n",
       "      <td>Bronx</td>\n",
       "      <td>OGDEN AVENUE</td>\n",
       "      <td>10452</td>\n",
       "    </tr>\n",
       "    <tr>\n",
       "      <th>4</th>\n",
       "      <td>MANHATTAN</td>\n",
       "      <td>Other Vehicular</td>\n",
       "      <td>3/12/2015 10:00</td>\n",
       "      <td>40.771783</td>\n",
       "      <td>-73.965435</td>\n",
       "      <td>(40.7717829, -73.9654346)</td>\n",
       "      <td>0</td>\n",
       "      <td>0</td>\n",
       "      <td>0</td>\n",
       "      <td>0</td>\n",
       "      <td>...</td>\n",
       "      <td>0</td>\n",
       "      <td>1</td>\n",
       "      <td>0.0</td>\n",
       "      <td>EAST 72 STREET</td>\n",
       "      <td>3184765</td>\n",
       "      <td>taxi</td>\n",
       "      <td>10021.0</td>\n",
       "      <td>Manhattan</td>\n",
       "      <td>EAST 72 STREET</td>\n",
       "      <td>10021</td>\n",
       "    </tr>\n",
       "  </tbody>\n",
       "</table>\n",
       "<p>5 rows × 21 columns</p>\n",
       "</div>"
      ],
      "text/plain": [
       "     borough   contributing_factor_vehicle_1        timestamp   latitude  \\\n",
       "0     QUEENS  Driver Inattention/Distraction    4/6/2019 9:50  40.592907   \n",
       "1  MANHATTAN             Alcohol Involvement   2/17/2013 0:20  40.733633   \n",
       "2     QUEENS           Failure to Keep Right  3/14/2016 13:00  40.674000   \n",
       "3      BRONX     Traffic Control Disregarded    1/1/2014 9:30  40.842464   \n",
       "4  MANHATTAN                 Other Vehicular  3/12/2015 10:00  40.771783   \n",
       "\n",
       "   longitude                   location  number_of_cyclist_injured  \\\n",
       "0 -73.795310     (40.592907, -73.79531)                          0   \n",
       "1 -74.002786  (40.7336333, -74.0027856)                          0   \n",
       "2 -73.872100         (40.674, -73.8721)                          0   \n",
       "3 -73.924135  (40.8424645, -73.9241348)                          0   \n",
       "4 -73.965435  (40.7717829, -73.9654346)                          0   \n",
       "\n",
       "   number_of_cyclist_killed  number_of_motorist_injured  \\\n",
       "0                         0                           0   \n",
       "1                         0                           0   \n",
       "2                         0                           0   \n",
       "3                         0                           1   \n",
       "4                         0                           0   \n",
       "\n",
       "   number_of_motorist_killed  ...  number_of_pedestrians_killed  \\\n",
       "0                          0  ...                             0   \n",
       "1                          0  ...                             0   \n",
       "2                          0  ...                             0   \n",
       "3                          0  ...                             0   \n",
       "4                          0  ...                             0   \n",
       "\n",
       "   number_of_persons_injured  number_of_persons_killed      on_street_name  \\\n",
       "0                          1                       0.0                 NaN   \n",
       "1                          2                       0.0  CHRISTOPHER STREET   \n",
       "2                          1                       0.0    QUEENS BOULEVARD   \n",
       "3                          3                       0.0        OGDEN AVENUE   \n",
       "4                          1                       0.0      EAST 72 STREET   \n",
       "\n",
       "  unique_key  vehicle_type_code1 zip_code  borough_y     on_street_name_y  \\\n",
       "0    4109774              sedans  11692.0     Queens  BEACH CHANNEL DRIVE   \n",
       "1      10452   passenger vehicle  10014.0  Manhattan   CHRISTOPHER STREET   \n",
       "2    3425418              sedans  11104.0     Queens     QUEENS BOULEVARD   \n",
       "3      88175         unspecified  10452.0      Bronx         OGDEN AVENUE   \n",
       "4    3184765                taxi  10021.0  Manhattan       EAST 72 STREET   \n",
       "\n",
       "  zipcode  \n",
       "0   11692  \n",
       "1   10014  \n",
       "2   11104  \n",
       "3   10452  \n",
       "4   10021  \n",
       "\n",
       "[5 rows x 21 columns]"
      ]
     },
     "execution_count": 31,
     "metadata": {},
     "output_type": "execute_result"
    }
   ],
   "source": [
    "merged_df.head()"
   ]
  },
  {
   "cell_type": "code",
   "execution_count": 32,
   "metadata": {
    "ExecuteTime": {
     "end_time": "2021-07-15T22:13:12.750022Z",
     "start_time": "2021-07-15T22:13:12.724719Z"
    }
   },
   "outputs": [
    {
     "name": "stdout",
     "output_type": "stream",
     "text": [
      "<class 'pandas.core.frame.DataFrame'>\n",
      "Int64Index: 45208 entries, 0 to 45207\n",
      "Data columns (total 21 columns):\n",
      " #   Column                         Non-Null Count  Dtype  \n",
      "---  ------                         --------------  -----  \n",
      " 0   borough                        37356 non-null  object \n",
      " 1   contributing_factor_vehicle_1  45208 non-null  object \n",
      " 2   timestamp                      45208 non-null  object \n",
      " 3   latitude                       45208 non-null  float64\n",
      " 4   longitude                      45208 non-null  float64\n",
      " 5   location                       45208 non-null  object \n",
      " 6   number_of_cyclist_injured      45208 non-null  int64  \n",
      " 7   number_of_cyclist_killed       45208 non-null  int64  \n",
      " 8   number_of_motorist_injured     45208 non-null  int64  \n",
      " 9   number_of_motorist_killed      45208 non-null  int64  \n",
      " 10  number_of_pedestrians_injured  45208 non-null  int64  \n",
      " 11  number_of_pedestrians_killed   45208 non-null  int64  \n",
      " 12  number_of_persons_injured      45208 non-null  int64  \n",
      " 13  number_of_persons_killed       45208 non-null  float64\n",
      " 14  on_street_name                 39317 non-null  object \n",
      " 15  unique_key                     45208 non-null  int64  \n",
      " 16  vehicle_type_code1             45208 non-null  object \n",
      " 17  zip_code                       37349 non-null  float64\n",
      " 18  borough_y                      45208 non-null  object \n",
      " 19  on_street_name_y               45208 non-null  object \n",
      " 20  zipcode                        45208 non-null  int64  \n",
      "dtypes: float64(4), int64(9), object(8)\n",
      "memory usage: 7.6+ MB\n"
     ]
    }
   ],
   "source": [
    "merged_df.info()"
   ]
  },
  {
   "cell_type": "code",
   "execution_count": 33,
   "metadata": {
    "ExecuteTime": {
     "end_time": "2021-07-15T22:13:31.470969Z",
     "start_time": "2021-07-15T22:13:31.452287Z"
    }
   },
   "outputs": [],
   "source": [
    "# drop uncleaned columns\n",
    "merged_df.drop(['borough', 'on_street_name', 'zip_code'], axis= 1, inplace= True)"
   ]
  },
  {
   "cell_type": "code",
   "execution_count": 34,
   "metadata": {
    "ExecuteTime": {
     "end_time": "2021-07-15T22:13:40.897628Z",
     "start_time": "2021-07-15T22:13:40.894452Z"
    }
   },
   "outputs": [],
   "source": [
    "# remove _y from column names to keep those columns with cleaned data\n",
    "column_names = {'borough_y': 'borough', 'on_street_name_y': 'on_street_name'}\n",
    "merged_df.rename(columns= column_names, inplace= True)"
   ]
  },
  {
   "cell_type": "code",
   "execution_count": 35,
   "metadata": {
    "ExecuteTime": {
     "end_time": "2021-07-15T22:13:41.711063Z",
     "start_time": "2021-07-15T22:13:41.691621Z"
    }
   },
   "outputs": [
    {
     "name": "stdout",
     "output_type": "stream",
     "text": [
      "<class 'pandas.core.frame.DataFrame'>\n",
      "Int64Index: 45208 entries, 0 to 45207\n",
      "Data columns (total 18 columns):\n",
      " #   Column                         Non-Null Count  Dtype  \n",
      "---  ------                         --------------  -----  \n",
      " 0   contributing_factor_vehicle_1  45208 non-null  object \n",
      " 1   timestamp                      45208 non-null  object \n",
      " 2   latitude                       45208 non-null  float64\n",
      " 3   longitude                      45208 non-null  float64\n",
      " 4   location                       45208 non-null  object \n",
      " 5   number_of_cyclist_injured      45208 non-null  int64  \n",
      " 6   number_of_cyclist_killed       45208 non-null  int64  \n",
      " 7   number_of_motorist_injured     45208 non-null  int64  \n",
      " 8   number_of_motorist_killed      45208 non-null  int64  \n",
      " 9   number_of_pedestrians_injured  45208 non-null  int64  \n",
      " 10  number_of_pedestrians_killed   45208 non-null  int64  \n",
      " 11  number_of_persons_injured      45208 non-null  int64  \n",
      " 12  number_of_persons_killed       45208 non-null  float64\n",
      " 13  unique_key                     45208 non-null  int64  \n",
      " 14  vehicle_type_code1             45208 non-null  object \n",
      " 15  borough                        45208 non-null  object \n",
      " 16  on_street_name                 45208 non-null  object \n",
      " 17  zipcode                        45208 non-null  int64  \n",
      "dtypes: float64(3), int64(9), object(6)\n",
      "memory usage: 6.6+ MB\n"
     ]
    }
   ],
   "source": [
    "merged_df.info()"
   ]
  },
  {
   "cell_type": "code",
   "execution_count": 36,
   "metadata": {
    "ExecuteTime": {
     "end_time": "2021-07-15T22:15:31.704106Z",
     "start_time": "2021-07-15T22:15:31.412656Z"
    }
   },
   "outputs": [],
   "source": [
    "# save to csv\n",
    "merged_df.to_csv('data/final_cleaned.csv', index= False)"
   ]
  },
  {
   "cell_type": "code",
   "execution_count": null,
   "metadata": {},
   "outputs": [],
   "source": []
  },
  {
   "cell_type": "code",
   "execution_count": null,
   "metadata": {},
   "outputs": [],
   "source": []
  },
  {
   "cell_type": "code",
   "execution_count": null,
<<<<<<< HEAD
   "metadata": {
    "ExecuteTime": {
     "end_time": "2021-07-11T19:59:53.788540Z",
     "start_time": "2021-07-11T19:59:53.454279Z"
    }
   },
   "outputs": [],
   "source": [
    "df.to_csv('geopy_df.csv', index= False)"
   ]
  },
  {
   "cell_type": "code",
   "execution_count": null,
   "metadata": {
    "ExecuteTime": {
     "end_time": "2021-07-11T19:59:53.898274Z",
     "start_time": "2021-07-11T19:59:53.789543Z"
    }
   },
   "outputs": [],
   "source": [
    "import geopy\n",
    "from geopy.geocoders import Nominatim\n",
    "geocoder = Nominatim(user_agent = 'ozbunae@gmail.com')"
   ]
  },
  {
   "cell_type": "code",
   "execution_count": null,
   "metadata": {
    "ExecuteTime": {
     "end_time": "2021-07-11T19:59:53.914290Z",
     "start_time": "2021-07-11T19:59:53.899275Z"
    }
   },
   "outputs": [],
   "source": [
    "from geopy.extra.rate_limiter import RateLimiter\n",
    "geocode = RateLimiter(geocoder.reverse, min_delay_seconds = 1) "
   ]
  },
  {
   "cell_type": "code",
   "execution_count": null,
   "metadata": {},
   "outputs": [],
   "source": []
  },
  {
   "cell_type": "code",
   "execution_count": null,
   "metadata": {},
   "outputs": [],
   "source": []
  },
  {
   "cell_type": "code",
   "execution_count": null,
   "metadata": {},
   "outputs": [],
   "source": []
  },
  {
   "cell_type": "code",
   "execution_count": null,
=======
>>>>>>> c5f1d96 (start of new ipynb)
   "metadata": {},
   "outputs": [],
   "source": []
  }
 ],
 "metadata": {
  "kernelspec": {
   "display_name": "Python 3 (ipykernel)",
   "language": "python",
   "name": "python3"
  },
  "language_info": {
   "codemirror_mode": {
    "name": "ipython",
    "version": 3
   },
   "file_extension": ".py",
   "mimetype": "text/x-python",
   "name": "python",
   "nbconvert_exporter": "python",
   "pygments_lexer": "ipython3",
   "version": "3.8.3"
  },
  "toc": {
   "base_numbering": 1,
   "nav_menu": {},
   "number_sections": true,
   "sideBar": true,
   "skip_h1_title": false,
   "title_cell": "Table of Contents",
   "title_sidebar": "Contents",
   "toc_cell": false,
   "toc_position": {},
   "toc_section_display": true,
   "toc_window_display": false
  },
  "varInspector": {
   "cols": {
    "lenName": 16,
    "lenType": 16,
    "lenVar": 40
   },
   "kernels_config": {
    "python": {
     "delete_cmd_postfix": "",
     "delete_cmd_prefix": "del ",
     "library": "var_list.py",
     "varRefreshCmd": "print(var_dic_list())"
    },
    "r": {
     "delete_cmd_postfix": ") ",
     "delete_cmd_prefix": "rm(",
     "library": "var_list.r",
     "varRefreshCmd": "cat(var_dic_list()) "
    }
   },
   "types_to_exclude": [
    "module",
    "function",
    "builtin_function_or_method",
    "instance",
    "_Feature"
   ],
   "window_display": false
  }
 },
 "nbformat": 4,
 "nbformat_minor": 4
}
